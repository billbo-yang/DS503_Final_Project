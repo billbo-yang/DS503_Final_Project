{
 "cells": [
  {
   "cell_type": "markdown",
   "metadata": {},
   "source": [
    "Please note that the following code is inspired from https://www.kaggle.com/code/burningdzire/life-expectancy-who-linear-regression"
   ]
  },
  {
   "cell_type": "code",
   "execution_count": 1,
   "metadata": {},
   "outputs": [],
   "source": [
    "# imports\n",
    "import numpy as np\n",
    "import joblib\n",
    "from sklearn import datasets, linear_model\n",
    "from sklearn.metrics import mean_squared_error, r2_score\n",
    "from sklearn.model_selection import train_test_split\n",
    "import pandas as pd\n"
   ]
  },
  {
   "cell_type": "code",
   "execution_count": 2,
   "metadata": {},
   "outputs": [
    {
     "data": {
      "text/html": [
       "<div>\n",
       "<style scoped>\n",
       "    .dataframe tbody tr th:only-of-type {\n",
       "        vertical-align: middle;\n",
       "    }\n",
       "\n",
       "    .dataframe tbody tr th {\n",
       "        vertical-align: top;\n",
       "    }\n",
       "\n",
       "    .dataframe thead th {\n",
       "        text-align: right;\n",
       "    }\n",
       "</style>\n",
       "<table border=\"1\" class=\"dataframe\">\n",
       "  <thead>\n",
       "    <tr style=\"text-align: right;\">\n",
       "      <th></th>\n",
       "      <th>Country</th>\n",
       "      <th>Year</th>\n",
       "      <th>Status</th>\n",
       "      <th>Life_expectancy</th>\n",
       "      <th>Adult_mortality</th>\n",
       "      <th>Infant_deaths</th>\n",
       "      <th>Alcohol</th>\n",
       "      <th>Percentage_expenditure</th>\n",
       "      <th>HepatitisB</th>\n",
       "      <th>Under_five_deaths</th>\n",
       "      <th>Polio</th>\n",
       "      <th>Total_expenditure</th>\n",
       "      <th>Diphtheria</th>\n",
       "      <th>HIV/AIDS</th>\n",
       "      <th>GDP</th>\n",
       "      <th>Population</th>\n",
       "      <th>Thinness_1-19_years</th>\n",
       "      <th>Thinness_5-9_years</th>\n",
       "      <th>Income_composition_of_resources</th>\n",
       "      <th>Schooling</th>\n",
       "    </tr>\n",
       "  </thead>\n",
       "  <tbody>\n",
       "    <tr>\n",
       "      <th>321</th>\n",
       "      <td>Afghanistan</td>\n",
       "      <td>2013</td>\n",
       "      <td>Developing</td>\n",
       "      <td>59.9</td>\n",
       "      <td>268.0</td>\n",
       "      <td>66</td>\n",
       "      <td>0.01</td>\n",
       "      <td>4.293458</td>\n",
       "      <td>81.0</td>\n",
       "      <td>89</td>\n",
       "      <td>79.0</td>\n",
       "      <td>8.13</td>\n",
       "      <td>65.0</td>\n",
       "      <td>0.1</td>\n",
       "      <td>6.448486</td>\n",
       "      <td>31731688.0</td>\n",
       "      <td>12.0</td>\n",
       "      <td>12.1</td>\n",
       "      <td>0.470</td>\n",
       "      <td>9.9</td>\n",
       "    </tr>\n",
       "    <tr>\n",
       "      <th>1887</th>\n",
       "      <td>Afghanistan</td>\n",
       "      <td>2003</td>\n",
       "      <td>Developing</td>\n",
       "      <td>56.7</td>\n",
       "      <td>295.0</td>\n",
       "      <td>87</td>\n",
       "      <td>0.01</td>\n",
       "      <td>2.405958</td>\n",
       "      <td>81.0</td>\n",
       "      <td>122</td>\n",
       "      <td>79.0</td>\n",
       "      <td>8.82</td>\n",
       "      <td>65.0</td>\n",
       "      <td>0.1</td>\n",
       "      <td>5.291940</td>\n",
       "      <td>31731688.0</td>\n",
       "      <td>12.0</td>\n",
       "      <td>12.1</td>\n",
       "      <td>0.373</td>\n",
       "      <td>6.5</td>\n",
       "    </tr>\n",
       "    <tr>\n",
       "      <th>160</th>\n",
       "      <td>Afghanistan</td>\n",
       "      <td>2014</td>\n",
       "      <td>Developing</td>\n",
       "      <td>59.9</td>\n",
       "      <td>271.0</td>\n",
       "      <td>64</td>\n",
       "      <td>0.01</td>\n",
       "      <td>4.297606</td>\n",
       "      <td>81.0</td>\n",
       "      <td>86</td>\n",
       "      <td>79.0</td>\n",
       "      <td>8.18</td>\n",
       "      <td>65.0</td>\n",
       "      <td>0.1</td>\n",
       "      <td>6.417870</td>\n",
       "      <td>31731688.0</td>\n",
       "      <td>12.0</td>\n",
       "      <td>12.1</td>\n",
       "      <td>0.476</td>\n",
       "      <td>10.0</td>\n",
       "    </tr>\n",
       "    <tr>\n",
       "      <th>1744</th>\n",
       "      <td>Afghanistan</td>\n",
       "      <td>2004</td>\n",
       "      <td>Developing</td>\n",
       "      <td>57.0</td>\n",
       "      <td>293.0</td>\n",
       "      <td>87</td>\n",
       "      <td>0.02</td>\n",
       "      <td>2.727596</td>\n",
       "      <td>81.0</td>\n",
       "      <td>120</td>\n",
       "      <td>79.0</td>\n",
       "      <td>8.79</td>\n",
       "      <td>65.0</td>\n",
       "      <td>0.1</td>\n",
       "      <td>5.389717</td>\n",
       "      <td>31731688.0</td>\n",
       "      <td>12.0</td>\n",
       "      <td>12.1</td>\n",
       "      <td>0.381</td>\n",
       "      <td>6.8</td>\n",
       "    </tr>\n",
       "    <tr>\n",
       "      <th>1745</th>\n",
       "      <td>Albania</td>\n",
       "      <td>2004</td>\n",
       "      <td>Developing</td>\n",
       "      <td>73.0</td>\n",
       "      <td>17.0</td>\n",
       "      <td>1</td>\n",
       "      <td>4.54</td>\n",
       "      <td>5.401969</td>\n",
       "      <td>99.0</td>\n",
       "      <td>1</td>\n",
       "      <td>98.0</td>\n",
       "      <td>6.38</td>\n",
       "      <td>97.0</td>\n",
       "      <td>0.1</td>\n",
       "      <td>7.790112</td>\n",
       "      <td>2992547.0</td>\n",
       "      <td>1.8</td>\n",
       "      <td>1.9</td>\n",
       "      <td>0.681</td>\n",
       "      <td>10.9</td>\n",
       "    </tr>\n",
       "  </tbody>\n",
       "</table>\n",
       "</div>"
      ],
      "text/plain": [
       "          Country  Year      Status  Life_expectancy  Adult_mortality  \\\n",
       "321   Afghanistan  2013  Developing             59.9            268.0   \n",
       "1887  Afghanistan  2003  Developing             56.7            295.0   \n",
       "160   Afghanistan  2014  Developing             59.9            271.0   \n",
       "1744  Afghanistan  2004  Developing             57.0            293.0   \n",
       "1745      Albania  2004  Developing             73.0             17.0   \n",
       "\n",
       "      Infant_deaths  Alcohol  Percentage_expenditure  HepatitisB  \\\n",
       "321              66     0.01                4.293458        81.0   \n",
       "1887             87     0.01                2.405958        81.0   \n",
       "160              64     0.01                4.297606        81.0   \n",
       "1744             87     0.02                2.727596        81.0   \n",
       "1745              1     4.54                5.401969        99.0   \n",
       "\n",
       "      Under_five_deaths  Polio  Total_expenditure  Diphtheria  HIV/AIDS  \\\n",
       "321                  89   79.0               8.13        65.0       0.1   \n",
       "1887                122   79.0               8.82        65.0       0.1   \n",
       "160                  86   79.0               8.18        65.0       0.1   \n",
       "1744                120   79.0               8.79        65.0       0.1   \n",
       "1745                  1   98.0               6.38        97.0       0.1   \n",
       "\n",
       "           GDP  Population  Thinness_1-19_years  Thinness_5-9_years  \\\n",
       "321   6.448486  31731688.0                 12.0                12.1   \n",
       "1887  5.291940  31731688.0                 12.0                12.1   \n",
       "160   6.417870  31731688.0                 12.0                12.1   \n",
       "1744  5.389717  31731688.0                 12.0                12.1   \n",
       "1745  7.790112   2992547.0                  1.8                 1.9   \n",
       "\n",
       "      Income_composition_of_resources  Schooling  \n",
       "321                             0.470        9.9  \n",
       "1887                            0.373        6.5  \n",
       "160                             0.476       10.0  \n",
       "1744                            0.381        6.8  \n",
       "1745                            0.681       10.9  "
      ]
     },
     "execution_count": 2,
     "metadata": {},
     "output_type": "execute_result"
    }
   ],
   "source": [
    "# load data\n",
    "data = pd.read_csv(\"le_cleaned.csv\")\n",
    "data.sort_values('Country', inplace=True) # just for clarity's sake\n",
    "data.head(5)"
   ]
  },
  {
   "cell_type": "code",
   "execution_count": 3,
   "metadata": {},
   "outputs": [
    {
     "data": {
      "text/html": [
       "<div>\n",
       "<style scoped>\n",
       "    .dataframe tbody tr th:only-of-type {\n",
       "        vertical-align: middle;\n",
       "    }\n",
       "\n",
       "    .dataframe tbody tr th {\n",
       "        vertical-align: top;\n",
       "    }\n",
       "\n",
       "    .dataframe thead th {\n",
       "        text-align: right;\n",
       "    }\n",
       "</style>\n",
       "<table border=\"1\" class=\"dataframe\">\n",
       "  <thead>\n",
       "    <tr style=\"text-align: right;\">\n",
       "      <th></th>\n",
       "      <th>Country</th>\n",
       "      <th>Year</th>\n",
       "      <th>Status</th>\n",
       "      <th>Life_expectancy</th>\n",
       "      <th>Adult_mortality</th>\n",
       "      <th>Infant_deaths</th>\n",
       "      <th>Alcohol</th>\n",
       "      <th>Percentage_expenditure</th>\n",
       "      <th>HepatitisB</th>\n",
       "      <th>Under_five_deaths</th>\n",
       "      <th>Polio</th>\n",
       "      <th>Total_expenditure</th>\n",
       "      <th>Diphtheria</th>\n",
       "      <th>HIV/AIDS</th>\n",
       "      <th>GDP</th>\n",
       "      <th>Population</th>\n",
       "      <th>Thinness_1-19_years</th>\n",
       "      <th>Thinness_5-9_years</th>\n",
       "      <th>Income_composition_of_resources</th>\n",
       "      <th>Schooling</th>\n",
       "    </tr>\n",
       "  </thead>\n",
       "  <tbody>\n",
       "    <tr>\n",
       "      <th>321</th>\n",
       "      <td>1</td>\n",
       "      <td>2013</td>\n",
       "      <td>1</td>\n",
       "      <td>59.9</td>\n",
       "      <td>268.0</td>\n",
       "      <td>66</td>\n",
       "      <td>0.01</td>\n",
       "      <td>4.293458</td>\n",
       "      <td>81.0</td>\n",
       "      <td>89</td>\n",
       "      <td>79.0</td>\n",
       "      <td>8.13</td>\n",
       "      <td>65.0</td>\n",
       "      <td>0.1</td>\n",
       "      <td>6.448486</td>\n",
       "      <td>31731688.0</td>\n",
       "      <td>12.0</td>\n",
       "      <td>12.1</td>\n",
       "      <td>0.470</td>\n",
       "      <td>9.9</td>\n",
       "    </tr>\n",
       "    <tr>\n",
       "      <th>1887</th>\n",
       "      <td>1</td>\n",
       "      <td>2003</td>\n",
       "      <td>1</td>\n",
       "      <td>56.7</td>\n",
       "      <td>295.0</td>\n",
       "      <td>87</td>\n",
       "      <td>0.01</td>\n",
       "      <td>2.405958</td>\n",
       "      <td>81.0</td>\n",
       "      <td>122</td>\n",
       "      <td>79.0</td>\n",
       "      <td>8.82</td>\n",
       "      <td>65.0</td>\n",
       "      <td>0.1</td>\n",
       "      <td>5.291940</td>\n",
       "      <td>31731688.0</td>\n",
       "      <td>12.0</td>\n",
       "      <td>12.1</td>\n",
       "      <td>0.373</td>\n",
       "      <td>6.5</td>\n",
       "    </tr>\n",
       "    <tr>\n",
       "      <th>160</th>\n",
       "      <td>1</td>\n",
       "      <td>2014</td>\n",
       "      <td>1</td>\n",
       "      <td>59.9</td>\n",
       "      <td>271.0</td>\n",
       "      <td>64</td>\n",
       "      <td>0.01</td>\n",
       "      <td>4.297606</td>\n",
       "      <td>81.0</td>\n",
       "      <td>86</td>\n",
       "      <td>79.0</td>\n",
       "      <td>8.18</td>\n",
       "      <td>65.0</td>\n",
       "      <td>0.1</td>\n",
       "      <td>6.417870</td>\n",
       "      <td>31731688.0</td>\n",
       "      <td>12.0</td>\n",
       "      <td>12.1</td>\n",
       "      <td>0.476</td>\n",
       "      <td>10.0</td>\n",
       "    </tr>\n",
       "    <tr>\n",
       "      <th>1744</th>\n",
       "      <td>1</td>\n",
       "      <td>2004</td>\n",
       "      <td>1</td>\n",
       "      <td>57.0</td>\n",
       "      <td>293.0</td>\n",
       "      <td>87</td>\n",
       "      <td>0.02</td>\n",
       "      <td>2.727596</td>\n",
       "      <td>81.0</td>\n",
       "      <td>120</td>\n",
       "      <td>79.0</td>\n",
       "      <td>8.79</td>\n",
       "      <td>65.0</td>\n",
       "      <td>0.1</td>\n",
       "      <td>5.389717</td>\n",
       "      <td>31731688.0</td>\n",
       "      <td>12.0</td>\n",
       "      <td>12.1</td>\n",
       "      <td>0.381</td>\n",
       "      <td>6.8</td>\n",
       "    </tr>\n",
       "    <tr>\n",
       "      <th>1745</th>\n",
       "      <td>2</td>\n",
       "      <td>2004</td>\n",
       "      <td>1</td>\n",
       "      <td>73.0</td>\n",
       "      <td>17.0</td>\n",
       "      <td>1</td>\n",
       "      <td>4.54</td>\n",
       "      <td>5.401969</td>\n",
       "      <td>99.0</td>\n",
       "      <td>1</td>\n",
       "      <td>98.0</td>\n",
       "      <td>6.38</td>\n",
       "      <td>97.0</td>\n",
       "      <td>0.1</td>\n",
       "      <td>7.790112</td>\n",
       "      <td>2992547.0</td>\n",
       "      <td>1.8</td>\n",
       "      <td>1.9</td>\n",
       "      <td>0.681</td>\n",
       "      <td>10.9</td>\n",
       "    </tr>\n",
       "  </tbody>\n",
       "</table>\n",
       "</div>"
      ],
      "text/plain": [
       "      Country  Year  Status  Life_expectancy  Adult_mortality  Infant_deaths  \\\n",
       "321         1  2013       1             59.9            268.0             66   \n",
       "1887        1  2003       1             56.7            295.0             87   \n",
       "160         1  2014       1             59.9            271.0             64   \n",
       "1744        1  2004       1             57.0            293.0             87   \n",
       "1745        2  2004       1             73.0             17.0              1   \n",
       "\n",
       "      Alcohol  Percentage_expenditure  HepatitisB  Under_five_deaths  Polio  \\\n",
       "321      0.01                4.293458        81.0                 89   79.0   \n",
       "1887     0.01                2.405958        81.0                122   79.0   \n",
       "160      0.01                4.297606        81.0                 86   79.0   \n",
       "1744     0.02                2.727596        81.0                120   79.0   \n",
       "1745     4.54                5.401969        99.0                  1   98.0   \n",
       "\n",
       "      Total_expenditure  Diphtheria  HIV/AIDS       GDP  Population  \\\n",
       "321                8.13        65.0       0.1  6.448486  31731688.0   \n",
       "1887               8.82        65.0       0.1  5.291940  31731688.0   \n",
       "160                8.18        65.0       0.1  6.417870  31731688.0   \n",
       "1744               8.79        65.0       0.1  5.389717  31731688.0   \n",
       "1745               6.38        97.0       0.1  7.790112   2992547.0   \n",
       "\n",
       "      Thinness_1-19_years  Thinness_5-9_years  \\\n",
       "321                  12.0                12.1   \n",
       "1887                 12.0                12.1   \n",
       "160                  12.0                12.1   \n",
       "1744                 12.0                12.1   \n",
       "1745                  1.8                 1.9   \n",
       "\n",
       "      Income_composition_of_resources  Schooling  \n",
       "321                             0.470        9.9  \n",
       "1887                            0.373        6.5  \n",
       "160                             0.476       10.0  \n",
       "1744                            0.381        6.8  \n",
       "1745                            0.681       10.9  "
      ]
     },
     "execution_count": 3,
     "metadata": {},
     "output_type": "execute_result"
    }
   ],
   "source": [
    "# replace country with numbers\n",
    "data['Country'] = data['Country'].replace(['Afghanistan' , 'Albania' , 'Algeria' , 'Angola' , 'Antigua and Barbuda' , 'Argentina' , 'Armenia' , 'Australia' , 'Austria' , 'Azerbaijan' , 'Bahamas' , 'Bahrain' , 'Bangladesh' , 'Barbados' , 'Belarus' , 'Belgium' , 'Belize' , 'Benin' , 'Bhutan' , 'Bolivia (Plurinational State of)' , 'Bosnia and Herzegovina' , 'Botswana' , 'Brazil' , 'Brunei Darussalam' , 'Bulgaria' , 'Burkina Faso' , 'Burundi' , \"Côte d'Ivoire\" , 'Cabo Verde' , 'Cambodia' , 'Cameroon' , 'Canada' , 'Central African Republic' , 'Chad' , 'Chile' , 'China' , 'Colombia' , 'Comoros' , 'Congo' , 'Costa Rica' , 'Croatia' , 'Cuba' , 'Cyprus' , 'Czechia' , \"Democratic People's Republic of Korea\" , 'Democratic Republic of the Congo' , 'Denmark' , 'Djibouti' , 'Dominican Republic' , 'Ecuador' , 'Egypt' , 'El Salvador' , 'Equatorial Guinea' , 'Eritrea' , 'Estonia' , 'Ethiopia' , 'Fiji' , 'Finland' , 'France' , 'Gabon' , 'Gambia' , 'Georgia' , 'Germany' , 'Ghana' , 'Greece' , 'Grenada' , 'Guatemala' , 'Guinea' , 'Guinea-Bissau' , 'Guyana' , 'Haiti' , 'Honduras' , 'Hungary' , 'Iceland' , 'India' , 'Indonesia' , 'Iran (Islamic Republic of)' , 'Iraq' , 'Ireland' , 'Israel' , 'Italy' , 'Jamaica' , 'Japan' , 'Jordan' , 'Kazakhstan' , 'Kenya' , 'Kiribati' , 'Kuwait' , 'Kyrgyzstan' , \"Lao People's Democratic Republic\" , 'Latvia' , 'Lebanon' , 'Lesotho' , 'Liberia' , 'Libya' , 'Lithuania' , 'Luxembourg' , 'Madagascar' , 'Malawi' , 'Malaysia' , 'Maldives' , 'Mali' , 'Malta' , 'Mauritania' , 'Mauritius' , 'Mexico' , 'Micronesia (Federated States of)' , 'Mongolia' , 'Montenegro' , 'Morocco' , 'Mozambique' , 'Myanmar' , 'Namibia' , 'Nepal' , 'Netherlands' , 'New Zealand' , 'Nicaragua' , 'Niger' , 'Nigeria' , 'Norway' , 'Oman' , 'Pakistan' , 'Panama' , 'Papua New Guinea' , 'Paraguay' , 'Peru' , 'Philippines' , 'Poland' , 'Portugal' , 'Qatar' , 'Republic of Korea' , 'Republic of Moldova' , 'Romania' , 'Russian Federation' , 'Rwanda' , 'Saint Lucia' , 'Saint Vincent and the Grenadines' , 'Samoa' , 'Sao Tome and Principe' , 'Saudi Arabia' , 'Senegal' , 'Serbia' , 'Seychelles' , 'Sierra Leone' , 'Singapore' , 'Slovakia' , 'Slovenia' , 'Solomon Islands' , 'Somalia' , 'South Africa' , 'South Sudan' , 'Spain' , 'Sri Lanka' , 'Sudan' , 'Suriname' , 'Swaziland' , 'Sweden' , 'Switzerland' , 'Syrian Arab Republic' , 'Tajikistan' , 'Thailand' , 'The former Yugoslav republic of Macedonia' , 'Timor-Leste' , 'Togo' , 'Tonga' , 'Trinidad and Tobago' , 'Tunisia' , 'Turkey' , 'Turkmenistan' , 'Uganda' , 'Ukraine' , 'United Arab Emirates' , 'United Kingdom of Great Britain and Northern Ireland' , 'United Republic of Tanzania' , 'United States of America' , 'Uruguay' , 'Uzbekistan' , 'Vanuatu' , 'Venezuela (Bolivarian Republic of)' , 'Viet Nam' , 'Yemen' , 'Zambia' , 'Zimbabwe' , 'Cook Islands' , 'Dominica' , 'Marshall Islands' , 'Monaco' , 'Nauru' , 'Niue' , 'Palau' , 'Saint Kitts and Nevis' , 'San Marino' , 'Tuvalu'], [1 ,2 ,3 ,4 ,5 ,6 ,7 ,8 ,9 ,10 ,11 ,12 ,13 ,14 ,15 ,16 ,17 ,18 ,19 ,20 ,21 ,22 ,23 ,24 ,25 ,26 ,27 ,28 ,29 ,30 ,31 ,32 ,33 ,34 ,35 ,36 ,37 ,38 ,39 ,40 ,41 ,42 ,43 ,44 ,45 ,46 ,47 ,48 ,49 ,50 ,51 ,52 ,53 ,54 ,55 ,56 ,57 ,58 ,59 ,60 ,61 ,62 ,63 ,64 ,65 ,66 ,67 ,68 ,69 ,70 ,71 ,72 ,73 ,74 ,75 ,76 ,77 ,78 ,79 ,80 ,81 ,82 ,83 ,84 ,85 ,86 ,87 ,88 ,89 ,90 ,91 ,92 ,93 ,94 ,95 ,96 ,97 ,98 ,99 ,100 ,101 ,102 ,103 ,104 ,105 ,106 ,107 ,108 ,109 ,110 ,111 ,112 ,113 ,114 ,115 ,116 ,117 ,118 ,119 ,120 ,121 ,122 ,123 ,124 ,125 ,126 ,127 ,128 ,129 ,130 ,131 ,132 ,133 ,134 ,135 ,136 ,137 ,138 ,139 ,140 ,141 ,142 ,143 ,144 ,145 ,146 ,147 ,148 ,149 ,150 ,151 ,152 ,153 ,154 ,155 ,156 ,157 ,158 ,159 ,160 ,161 ,162 ,163 ,164 ,165 ,166 ,167 ,168 ,169 ,170 ,171 ,172 ,173 ,174 ,175 ,176 ,177 ,178 ,179 ,180 ,181 ,182 ,183 ,184 ,185 ,186 ,187 ,188 ,189 ,190 ,191 ,192 ,193])\n",
    "\n",
    "# replace development status with numbers\n",
    "data['Status'] = data['Status'].replace(['Developing', 'Developed'], [1,2])\n",
    "\n",
    "# let's remove 2015 from the dataset so we can use it to make sure we're not overfitting later on\n",
    "data_2015 = data.loc[data['Year'] == 2015]\n",
    "data = data.loc[data['Year'] != 2015]\n",
    "\n",
    "data_2015.head()\n",
    "data.head()"
   ]
  },
  {
   "cell_type": "code",
   "execution_count": 4,
   "metadata": {},
   "outputs": [
    {
     "name": "stdout",
     "output_type": "stream",
     "text": [
      "1    1442\n",
      "2     360\n",
      "Name: Status, dtype: int64\n",
      "1    366\n",
      "2     85\n",
      "Name: Status, dtype: int64\n"
     ]
    }
   ],
   "source": [
    "# divide data\n",
    "train, test = train_test_split(data, test_size=0.2, random_state=0)\n",
    "\n",
    "# ensure that we have a roughly even distribution of categorical variables\n",
    "# (note we aren't really using country name as a categorical variable since there are so many of them)\n",
    "print(train['Status'].value_counts())\n",
    "print(test['Status'].value_counts())"
   ]
  },
  {
   "cell_type": "code",
   "execution_count": 5,
   "metadata": {},
   "outputs": [],
   "source": [
    "# split train/test datasets into label and features\n",
    "train_x = train.loc[:, train.columns != 'Life_expectancy']\n",
    "test_x = test.loc[:, test.columns != 'Life_expectancy']\n",
    "\n",
    "train_y = train['Life_expectancy']\n",
    "test_y = test['Life_expectancy']"
   ]
  },
  {
   "cell_type": "code",
   "execution_count": 6,
   "metadata": {},
   "outputs": [
    {
     "name": "stdout",
     "output_type": "stream",
     "text": [
      "[-1.15380831e-03  3.93484707e-02  1.52304849e+00 -1.65486782e-02\n",
      "  9.41348007e-02  1.62895893e-03  1.87735307e-01 -8.97127366e-02\n",
      " -9.38151929e-02  6.91362202e-02  5.18875104e-02  5.50711772e-02\n",
      " -8.80388169e+00  9.35260261e-02  8.01227125e-09  2.14170288e-01\n",
      " -4.57167916e-01  1.24179050e+01  1.14795082e-01]\n"
     ]
    }
   ],
   "source": [
    "lr_model = linear_model.LinearRegression()\n",
    "lr_model.fit(train_x, train_y)\n",
    "\n",
    "print(lr_model.coef_)"
   ]
  },
  {
   "cell_type": "code",
   "execution_count": 7,
   "metadata": {},
   "outputs": [
    {
     "name": "stdout",
     "output_type": "stream",
     "text": [
      "14.587708762603366\n",
      "78.31163574837227\n"
     ]
    }
   ],
   "source": [
    "lr_test_pred = lr_model.predict(test_x)\n",
    "print(mean_squared_error(test_y, lr_test_pred))\n",
    "print(r2_score(test_y, lr_test_pred) * 100)"
   ]
  },
  {
   "cell_type": "markdown",
   "metadata": {},
   "source": [
    "Some notes:\n",
    "* 14% mean squared error is pretty good, probably no overfitting yet\n",
    "* r2 score of 78% isn't the best\n",
    "\n",
    "Let's see how the Random Forest Regressor model fares compared to Linear Regression"
   ]
  },
  {
   "cell_type": "code",
   "execution_count": 8,
   "metadata": {},
   "outputs": [],
   "source": [
    "# more imports\n",
    "from sklearn.ensemble import RandomForestRegressor"
   ]
  },
  {
   "cell_type": "code",
   "execution_count": 9,
   "metadata": {},
   "outputs": [
    {
     "data": {
      "text/plain": [
       "RandomForestRegressor(random_state=0)"
      ]
     },
     "execution_count": 9,
     "metadata": {},
     "output_type": "execute_result"
    }
   ],
   "source": [
    "# only need to define new regressor since we already cleaned and split data\n",
    "rfr_model = RandomForestRegressor(n_estimators=100, random_state=0)\n",
    "rfr_model.fit(train_x, train_y)"
   ]
  },
  {
   "cell_type": "code",
   "execution_count": 10,
   "metadata": {},
   "outputs": [
    {
     "name": "stdout",
     "output_type": "stream",
     "text": [
      "3.406113146341456\n",
      "94.93594067428258\n"
     ]
    }
   ],
   "source": [
    "rfr_test_pred = rfr_model.predict(test_x)\n",
    "print(mean_squared_error(test_y, rfr_test_pred))\n",
    "print(r2_score(test_y, rfr_test_pred) * 100)"
   ]
  },
  {
   "cell_type": "markdown",
   "metadata": {},
   "source": [
    "Some notes:\n",
    "* 3% MSE is quite good\n",
    "* 95% r2 score is very very good\n",
    "\n",
    "Overall, it seems better than linear regression. However, MSE makes me think we may be overfitting... Let's take a look at the year of data we set aside (2015)"
   ]
  },
  {
   "cell_type": "code",
   "execution_count": 11,
   "metadata": {},
   "outputs": [
    {
     "name": "stdout",
     "output_type": "stream",
     "text": [
      "4.215621618750001\n",
      "93.33680545155454\n"
     ]
    }
   ],
   "source": [
    "# divide data for double check\n",
    "data_2015_x = data_2015.loc[:, data_2015.columns != 'Life_expectancy']\n",
    "data_2015_y = data_2015['Life_expectancy']\n",
    "\n",
    "rfr_pred_2015 = rfr_model.predict(data_2015_x)\n",
    "print(mean_squared_error(data_2015_y, rfr_pred_2015))\n",
    "print(r2_score(data_2015_y, rfr_pred_2015) * 100)\n"
   ]
  },
  {
   "cell_type": "markdown",
   "metadata": {},
   "source": [
    "Some notes:\n",
    "* Looks like the Random Forest Regressor model performed just as well on the year of data we set aside as it did on the original training set. No overfitting (hopefully)!\n",
    "* Given that it's performance is also better than the Linear Regression model, we'll move forward with that when developing the program"
   ]
  },
  {
   "cell_type": "markdown",
   "metadata": {},
   "source": [
    "Logic for saving and loading the model for use in an application follows. Please note that the logic is inspired from: https://mljar.com/blog/save-load-random-forest/"
   ]
  },
  {
   "cell_type": "code",
   "execution_count": 12,
   "metadata": {},
   "outputs": [
    {
     "data": {
      "text/plain": [
       "['./country_le_rf_model.joblib']"
      ]
     },
     "execution_count": 12,
     "metadata": {},
     "output_type": "execute_result"
    }
   ],
   "source": [
    "# Let's save the Random Forest model to a file to use in python script\n",
    "joblib.dump(rfr_model, \"./country_le_rf_model.joblib\")"
   ]
  },
  {
   "cell_type": "code",
   "execution_count": 15,
   "metadata": {},
   "outputs": [
    {
     "name": "stdout",
     "output_type": "stream",
     "text": [
      "4.215621618750001\n",
      "93.33680545155454\n"
     ]
    }
   ],
   "source": [
    "# Let's test loading the model from a file to ensure that it works\n",
    "loaded_rf = joblib.load(\"./country_le_rf_model.joblib\")\n",
    "\n",
    "pred = loaded_rf.predict(data_2015_x)\n",
    "print(mean_squared_error(data_2015_y, pred))\n",
    "print(r2_score(data_2015_y, pred) * 100)"
   ]
  },
  {
   "cell_type": "markdown",
   "metadata": {},
   "source": [
    "Looks right to me!"
   ]
  }
 ],
 "metadata": {
  "interpreter": {
   "hash": "e08dffe42995d5ec8a8609d47714de1f72c1df9fe66eb4a03e8b6ce4686b02d9"
  },
  "kernelspec": {
   "display_name": "Python 3.8.9 ('venv': venv)",
   "language": "python",
   "name": "python3"
  },
  "language_info": {
   "codemirror_mode": {
    "name": "ipython",
    "version": 3
   },
   "file_extension": ".py",
   "mimetype": "text/x-python",
   "name": "python",
   "nbconvert_exporter": "python",
   "pygments_lexer": "ipython3",
   "version": "3.8.9"
  },
  "orig_nbformat": 4
 },
 "nbformat": 4,
 "nbformat_minor": 2
}
